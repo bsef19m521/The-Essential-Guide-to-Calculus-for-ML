{
 "cells": [
  {
   "cell_type": "markdown",
   "id": "685b6f3f",
   "metadata": {},
   "source": [
    "\n",
    "# 07_Lecture - Introduction to Differential Equations and Second-Order Differential Equations\n",
    "\n",
    "## Learning Agenda of this Notebook\n",
    "\n",
    "\n",
    "\n",
    "- **7.1: Introduction to Differential Equations**\n",
    "    - Introduction to Differential Equations\n",
    "    - Basics of Differentail Equations\n",
    "    - Direction Fields and Numerical Methods\n",
    "    - Separable Equations \n",
    "    - The Logistic Equation\n",
    "    - First-Order Linear Equation\n",
    "    \n",
    "    \n",
    "- **7.2: Second-order Diffenertail Equations**\n",
    "    - Introduction to Second-Order Diffenertial Equations\n",
    "    - Second-Order Linear Equations\n",
    "    - Non-Homogeneous Linear Equations\n",
    "    - Applications of second-order Differntial Equations\n",
    "    - Series Solutions of Differential Equations"
   ]
  },
  {
   "cell_type": "code",
   "execution_count": null,
   "id": "60ac8b80",
   "metadata": {},
   "outputs": [],
   "source": []
  },
  {
   "cell_type": "code",
   "execution_count": null,
   "id": "83bfed4b",
   "metadata": {},
   "outputs": [],
   "source": []
  },
  {
   "cell_type": "code",
   "execution_count": null,
   "id": "6474b305",
   "metadata": {},
   "outputs": [],
   "source": []
  },
  {
   "cell_type": "code",
   "execution_count": null,
   "id": "3741437c",
   "metadata": {},
   "outputs": [],
   "source": []
  }
 ],
 "metadata": {
  "kernelspec": {
   "display_name": "Python 3 (ipykernel)",
   "language": "python",
   "name": "python3"
  },
  "language_info": {
   "codemirror_mode": {
    "name": "ipython",
    "version": 3
   },
   "file_extension": ".py",
   "mimetype": "text/x-python",
   "name": "python",
   "nbconvert_exporter": "python",
   "pygments_lexer": "ipython3",
   "version": "3.8.10"
  }
 },
 "nbformat": 4,
 "nbformat_minor": 5
}
