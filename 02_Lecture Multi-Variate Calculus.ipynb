{
 "cells": [
  {
   "cell_type": "markdown",
   "id": "9ea0d3d6",
   "metadata": {},
   "source": [
    "# 02_Lecture Multi-Variate Calculus\n",
    "\n",
    "## Learning Agenda of this Notebook\n",
    "\n",
    "- **Multivariate functions:** A quick recap on functions.\n",
    "- **Multivariate limits and derivatives**\n",
    "- **Identifying maxima, minima, and saddle points**\n",
    "- **Multivariate derivatives cheatsheet**\n",
    "- **Interview Questions**"
   ]
  },
  {
   "cell_type": "code",
   "execution_count": null,
   "id": "92a4154d",
   "metadata": {},
   "outputs": [],
   "source": []
  },
  {
   "cell_type": "code",
   "execution_count": null,
   "id": "6902efa3",
   "metadata": {},
   "outputs": [],
   "source": []
  },
  {
   "cell_type": "code",
   "execution_count": null,
   "id": "4f31572e",
   "metadata": {},
   "outputs": [],
   "source": []
  },
  {
   "cell_type": "markdown",
   "id": "f0640406",
   "metadata": {},
   "source": [
    "## Interview Questions"
   ]
  },
  {
   "cell_type": "markdown",
   "id": "b8a3ad7d",
   "metadata": {},
   "source": [
    "- What is calculus and why is it important in machine learning?\n",
    "- What are the key concepts of differential calculus?\n",
    "- How do you calculate derivatives and partial derivatives in machine learning?\n",
    "- What is chain rule in differentiation?\n",
    "- What is gradient descent and how does it work?\n",
    "- What is the difference between single variable and multivariable calculus?\n",
    "- What is the chain rule for partial derivatives?\n",
    "- What is the gradient vector and how is it used in machine learning?\n",
    "- What is the Jacobian matrix and how is it used in machine learning?\n",
    "- What is optimization and how does it relate to machine learning?\n",
    "- What is the Newton-Raphson method and how is it used in machine learning?\n",
    "- What is the difference between optimization and linear algebra in machine learning?\n",
    "- What are the key concepts of integral calculus and how are they used in machine learning?\n",
    "- What is the meaning of line integral and how is it used in machine learning?\n",
    "- What is the difference between Riemann and Lebesgue integrals in machine learning?\n",
    "- What is the fundamental theorem of calculus and how is it used in machine learning?\n",
    "- What is the Gaussian integral and how is it used in machine learning?\n",
    "- What is the relationship between differential equations and machine learning?\n",
    "- What is the difference between ordinary and partial differential equations?\n",
    "- How does optimization help in minimizing loss in machine learning?\n",
    "- Can you explain the mathematical proof behind the convergence of gradient descent?\n",
    "- What are the various optimization algorithms used in machine learning and their use cases?\n",
    "- How does optimization play a role in deep learning algorithms such as neural networks?\n",
    "- Can you explain the curse of dimensionality and how it affects machine learning algorithms?\n",
    "- Can you explain the role of singular value decomposition (SVD) in dimensionality reduction?\n",
    "- What is PCA and how is it used in machine learning?\n",
    "- How does PCA help in reducing overfitting in machine learning algorithms?\n",
    "- What are the different algorithms used for dimensionality reduction and their use cases?\n",
    "- How does dimensionality reduction impact the performance of machine learning algorithms?\n",
    "- Can you explain the impact of different feature scaling methods on machine learning algorithms?"
   ]
  },
  {
   "cell_type": "code",
   "execution_count": null,
   "id": "3b795384",
   "metadata": {},
   "outputs": [],
   "source": []
  },
  {
   "cell_type": "code",
   "execution_count": null,
   "id": "ade72bfa",
   "metadata": {},
   "outputs": [],
   "source": []
  },
  {
   "cell_type": "code",
   "execution_count": null,
   "id": "8867a570",
   "metadata": {},
   "outputs": [],
   "source": []
  },
  {
   "cell_type": "code",
   "execution_count": null,
   "id": "0fdc62d8",
   "metadata": {},
   "outputs": [],
   "source": []
  }
 ],
 "metadata": {
  "kernelspec": {
   "display_name": "Python 3 (ipykernel)",
   "language": "python",
   "name": "python3"
  },
  "language_info": {
   "codemirror_mode": {
    "name": "ipython",
    "version": 3
   },
   "file_extension": ".py",
   "mimetype": "text/x-python",
   "name": "python",
   "nbconvert_exporter": "python",
   "pygments_lexer": "ipython3",
   "version": "3.8.10"
  }
 },
 "nbformat": 4,
 "nbformat_minor": 5
}
